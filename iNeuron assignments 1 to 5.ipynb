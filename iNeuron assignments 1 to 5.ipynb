{
 "cells": [
  {
   "cell_type": "markdown",
   "metadata": {},
   "source": [
    "# [Assignment1]"
   ]
  },
  {
   "cell_type": "code",
   "execution_count": 1,
   "metadata": {},
   "outputs": [
    {
     "name": "stdout",
     "output_type": "stream",
     "text": [
      "2002, 2009, 2016, 2023, 2037, 2044, 2051, 2058, 2072, 2079, 2086, 2093, 2107, 2114, 2121, 2128, 2142, 2149, 2156, 2163, 2177, 2184, 2191, 2198, 2212, 2219, 2226, 2233, 2247, 2254, 2261, 2268, 2282, 2289, 2296, 2303, 2317, 2324, 2331, 2338, 2352, 2359, 2366, 2373, 2387, 2394, 2401, 2408, 2422, 2429, 2436, 2443, 2457, 2464, 2471, 2478, 2492, 2499, 2506, 2513, 2527, 2534, 2541, 2548, 2562, 2569, 2576, 2583, 2597, 2604, 2611, 2618, 2632, 2639, 2646, 2653, 2667, 2674, 2681, 2688, 2702, 2709, 2716, 2723, 2737, 2744, 2751, 2758, 2772, 2779, 2786, 2793, 2807, 2814, 2821, 2828, 2842, 2849, 2856, 2863, 2877, 2884, 2891, 2898, 2912, 2919, 2926, 2933, 2947, 2954, 2961, 2968, 2982, 2989, 2996, 3003, 3017, 3024, 3031, 3038, 3052, 3059, 3066, 3073, 3087, 3094, 3101, 3108, 3122, 3129, 3136, 3143, 3157, 3164, 3171, 3178, 3192, 3199\n"
     ]
    }
   ],
   "source": [
    "'''1. Write a program which will find all such numbers which are divisible by 7 but are not a multiple of 5, \n",
    "between 2000 and 3200 (both included). The numbers obtained should be printed in a comma-separated sequence on a single line.'''\n",
    "\n",
    "valid_num=[]\n",
    "for i in range(2000,3201):\n",
    "    if(i%5!=0 and i%7==0):\n",
    "        valid_num.append(i)\n",
    "print(*valid_num, sep = \", \")"
   ]
  },
  {
   "cell_type": "code",
   "execution_count": 17,
   "metadata": {},
   "outputs": [
    {
     "name": "stdout",
     "output_type": "stream",
     "text": [
      "Input your First Name : harsh\n",
      "Input your Last Name : Gujral\n",
      "Hello  Gujral harsh\n"
     ]
    }
   ],
   "source": [
    "'''\n",
    "2. Write a Python program to accept the user's first and\n",
    "last name and then getting them printed in the the reverse order with\n",
    "a space between first name and last name.\n",
    "'''\n",
    "\n",
    "fname = input(\"Input your First Name : \")\n",
    "lname = input(\"Input your Last Name : \")\n",
    "print (\"Hello  \" + lname + \" \" + fname)"
   ]
  },
  {
   "cell_type": "code",
   "execution_count": 18,
   "metadata": {},
   "outputs": [
    {
     "name": "stdout",
     "output_type": "stream",
     "text": [
      "904.3199999999999\n"
     ]
    }
   ],
   "source": [
    "'''\n",
    "3. Write a Python program to find the volume of a sphere with diameter 12 cm.\n",
    "\n",
    "Formula: V=4/3 * π * r3 \n",
    "'''\n",
    "\n",
    "Diam_cm = 12\n",
    "radius_cm = 6 # radius = Diameter/2\n",
    "pie = 3.14\n",
    "\n",
    "# formula \n",
    "\n",
    "V = (4/3 * pie * (radius_cm ** 3))\n",
    "\n",
    "print(V)"
   ]
  },
  {
   "cell_type": "markdown",
   "metadata": {},
   "source": [
    "# [Assignment 2]"
   ]
  },
  {
   "cell_type": "code",
   "execution_count": 21,
   "metadata": {},
   "outputs": [
    {
     "name": "stdout",
     "output_type": "stream",
     "text": [
      "* \n",
      "\n",
      "* * \n",
      "\n",
      "* * * \n",
      "\n",
      "* * * * \n",
      "\n",
      "* * * * * \n",
      "\n",
      "* * * * \n",
      "\n",
      "* * * \n",
      "\n",
      "* * \n",
      "\n",
      "* \n",
      "\n"
     ]
    }
   ],
   "source": [
    "'''\n",
    "1. Create the below pattern using nested for loop in Python.\n",
    "\n",
    "'''\n",
    "for i in range(0,9):\n",
    "    if(i <= 4):\n",
    "        for j in range(0,i+1):\n",
    "            print(\"*\", end=\" \")\n",
    "        print(\"\\n\")\n",
    "    else:\n",
    "        for j in range(i,9):\n",
    "            print(\"*\", end=\" \")\n",
    "        print(\"\\n\")"
   ]
  },
  {
   "cell_type": "code",
   "execution_count": 22,
   "metadata": {},
   "outputs": [
    {
     "name": "stdout",
     "output_type": "stream",
     "text": [
      "Enter text: iNeuron\n",
      "norueNi\n"
     ]
    }
   ],
   "source": [
    "'''\n",
    "2. Write a Python program to reverse a word after accepting the input from the user.\n",
    "'''\n",
    "\n",
    "a=input(\"Enter text: \")\n",
    "print(a[::-1])"
   ]
  },
  {
   "cell_type": "markdown",
   "metadata": {},
   "source": [
    "# [Assignment 3]"
   ]
  },
  {
   "cell_type": "code",
   "execution_count": 4,
   "metadata": {},
   "outputs": [
    {
     "name": "stdout",
     "output_type": "stream",
     "text": [
      "Sum of all element in list a : 15\n",
      "Product of all elements in list a : 120\n"
     ]
    }
   ],
   "source": [
    "'''\n",
    "1.1 Write a Python Program to implement your own myreduce() function which works exactly\n",
    "like Python's built-in function reduce()\n",
    "'''\n",
    "def myreduce(fun, alist):\n",
    "    x = alist[0]\n",
    "    \n",
    "    for i in range(1, len(alist)):\n",
    "        x = fun(x, alist[i])\n",
    "    \n",
    "    return x\n",
    "\n",
    "def summ(x1, x2):\n",
    "    return x1 + x2\n",
    "\n",
    "def Product(x1, x2):\n",
    "    return(x1 * x2)\n",
    "\n",
    "a = [1, 2, 3, 4, 5]\n",
    "\n",
    "print(\"Sum of all element in list a :\", myreduce(summ, a))\n",
    "print(\"Product of all elements in list a :\", myreduce(Product, a))"
   ]
  },
  {
   "cell_type": "code",
   "execution_count": 5,
   "metadata": {},
   "outputs": [
    {
     "name": "stdout",
     "output_type": "stream",
     "text": [
      "[5, 10, 15, 35, 120]\n",
      "[1, 3, 5, 7, 9]\n"
     ]
    }
   ],
   "source": [
    "'''\n",
    "1.2 Write a Python program to implement your own myfilter() function which works exactly\n",
    "like Python's built-in function filter()\n",
    "'''\n",
    "\n",
    "def myfilter(fun, alist):\n",
    "    x = []\n",
    "    y = []\n",
    "    \n",
    "    for i in alist:\n",
    "        x.append(fun(i))\n",
    "    \n",
    "    for i in range(0, len(x)):\n",
    "        \n",
    "        if x[i] == False:\n",
    "            continue\n",
    "        \n",
    "        else:\n",
    "            y.append(x[i])\n",
    "    \n",
    "    return y\n",
    "        \n",
    "def multiple_five(i):\n",
    "    \n",
    "    if i%5==0:\n",
    "        return i\n",
    "    \n",
    "    else:\n",
    "        return False\n",
    "\n",
    "def odd_number(i):\n",
    "    if i%2 == 1:\n",
    "        return i\n",
    "    else:\n",
    "        return False\n",
    "\n",
    "print(myfilter(multiple_five, [2, 5, 6, 4, 10, 15, 12, 35, 124, 120]))\n",
    "print(myfilter(odd_number,[1, 2, 3, 4, 5, 6, 7, 8, 9, 10]))"
   ]
  },
  {
   "cell_type": "code",
   "execution_count": 7,
   "metadata": {},
   "outputs": [
    {
     "name": "stdout",
     "output_type": "stream",
     "text": [
      "['A', 'C', 'A', 'D', 'G', 'I', 'L', 'D']\n",
      "['x', 'xx', 'xxx', 'xxxx', 'y', 'yy', 'yyy', 'yyyy', 'z', 'zz', 'zzz', 'zzzz']\n",
      "['x', 'y', 'z', 'xx', 'yy', 'zz', 'xxx', 'yyy', 'zzz', 'xxxx', 'yyyy', 'zzzz']\n",
      "[[2], [3], [4], [3], [4], [5], [4], [5], [6]]\n",
      "[[2, 3, 4, 5], [3, 4, 5, 6], [4, 5, 6, 7], [5, 6, 7, 8]]\n",
      "[(1, 1), (2, 1), (3, 1), (1, 2), (2, 2), (3, 2), (1, 3), (2, 3), (3, 3)]\n"
     ]
    }
   ],
   "source": [
    "'''\n",
    "2. Write List comprehensions to produce the following Lists\n",
    "\n",
    "1. ['A', 'C', 'A', 'D', 'G', 'I', 'L', 'D']\n",
    "\n",
    "2. ['x', 'xx', 'xxx', 'xxxx', 'y', 'yy', 'yyy', 'yyyy', 'z', 'zz', 'zzz', 'zzzz']\n",
    "\n",
    "3. ['x', 'y', 'z', 'xx', 'yy', 'zz', 'xx', 'yy', 'zz', 'xxxx', 'yyyy', 'zzzz']\n",
    "\n",
    "4. [[2], [3], [4], [3], [4], [5], [4], [5], [6]]\n",
    "\n",
    "5. [[2, 3, 4, 5], [3, 4, 5, 6], [4, 5, 6, 7], [5, 6, 7, 8]]\n",
    "\n",
    "6. [(1, 1), (2, 1), (3, 1), (1, 2), (2, 2), (3, 2), (1, 3), (2, 3), (3, 3)]\n",
    "'''\n",
    "# 1. Solution \n",
    "l = [i for i in 'ACADGILD']\n",
    "print(l)\n",
    "# 2. solution \n",
    "list1 = [i * j for j in ['x', 'y', 'z'] for i in range(1, 5)]\n",
    "print(list1)\n",
    "# 3. solution\n",
    "list2 = [i * j for j in range(1, 5) for i in ['x', 'y', 'z']]\n",
    "print(list2)\n",
    "# 4. solution\n",
    "list3 = [[i + j] for j in [0, 1, 2] for i in range(2, 5)]\n",
    "print(list3)\n",
    "#5. solution\n",
    "list4 = [[i + j for j in [0, 1, 2, 3]] for i in range(2, 6)]\n",
    "print(list4)\n",
    "#6. solution\n",
    "list5 = [(i,j) for j in [1, 2, 3] for i in [1, 2, 3]]\n",
    "print(list5)"
   ]
  },
  {
   "cell_type": "markdown",
   "metadata": {},
   "source": [
    "#  [Assignment 4]"
   ]
  },
  {
   "cell_type": "code",
   "execution_count": 9,
   "metadata": {},
   "outputs": [
    {
     "name": "stdout",
     "output_type": "stream",
     "text": [
      "6.0\n",
      "There are 3 sides.\n"
     ]
    }
   ],
   "source": [
    "# Task 2\n",
    "\n",
    "'''\n",
    "1.1 Write a Python Program(with class concepts) to find the area of the triangle using the below\n",
    "formula.\n",
    "area = (s*(s-a)*(s-b)*(s-c)) ** 0.5\n",
    "Function to take the length of the sides of triangle from user should be defined in the parent\n",
    "class and function to calculate the area should be defined in subclass.\n",
    "'''\n",
    "\n",
    "class Polygon:\n",
    "\n",
    "    def __init__(self, n):\n",
    "        self.number_of_sides = n\n",
    "\n",
    "    def print_num_sides(self):\n",
    "        '''a quick, informational print statement'''\n",
    "        print('There are ' + str(self.number_of_sides) + ' sides.')\n",
    "        \n",
    "class Triangle(Polygon):\n",
    "\n",
    "    def __init__(self, lengths_of_sides):\n",
    "        Polygon.__init__(self, 3)\n",
    "        self.lengths_of_sides = lengths_of_sides  # list of three numbers\n",
    "\n",
    "    def get_area(self):\n",
    "        '''return the area of the triangle using the semi-perimeter method'''\n",
    "        a, b, c = self.lengths_of_sides\n",
    "\n",
    "        # calculate the semi-perimeter\n",
    "        s = (a + b + c) / 2\n",
    "        return (s*(s-a)*(s-b)*(s-c)) ** 0.5\n",
    "    \n",
    "\n",
    "tri = Triangle([3, 4, 5])\n",
    "print(tri.get_area())\n",
    "tri.print_num_sides()"
   ]
  },
  {
   "cell_type": "code",
   "execution_count": 10,
   "metadata": {},
   "outputs": [
    {
     "data": {
      "text/plain": [
       "['this should']"
      ]
     },
     "execution_count": 10,
     "metadata": {},
     "output_type": "execute_result"
    }
   ],
   "source": [
    "'''\n",
    "1.2 Write a function filter_long_words() that takes a list of words and an integer n and returns\n",
    "the list of words that are longer than n.\n",
    "'''\n",
    "def filter_long_words(words, n):\n",
    "    return filter(lambda x: len(x) > n, words)\n",
    "\n",
    "\n",
    "list(filter_long_words(['test', 'not', 'this should'], 5))"
   ]
  },
  {
   "cell_type": "code",
   "execution_count": 11,
   "metadata": {},
   "outputs": [
    {
     "name": "stdout",
     "output_type": "stream",
     "text": [
      "[2, 3, 4]\n",
      "[2, 3, 4]\n"
     ]
    }
   ],
   "source": [
    "'''\n",
    "2.1 Write a Python program using function concept that maps list of words into a list of integers\n",
    "representing the lengths of the corresponding words.\n",
    "Hint: If a list [ ab,cde,erty] is passed on to the python function output should come as [2,3,4]\n",
    "Here 2,3 and 4 are the lengths of the words in the list.\n",
    "'''\n",
    "\n",
    "def map_to_lengths_for(words):\n",
    "    lengths = []\n",
    "    for word in words:\n",
    "        lengths.append(len(word))\n",
    "    return lengths\n",
    "\n",
    "\n",
    "def map_to_lengths_map(words):\n",
    "    return map(len, words)\n",
    "\n",
    "\n",
    "def map_to_lengths_lists(words):\n",
    "    return [len(word) for word in words]\n",
    "\n",
    "\n",
    "if __name__ == \"__main__\":\n",
    "    words = ['ab', 'cde', 'erty']\n",
    "    print(map_to_lengths_for(words))\n",
    "    list(map_to_lengths_map(words))\n",
    "    print(map_to_lengths_lists(words))"
   ]
  },
  {
   "cell_type": "code",
   "execution_count": 12,
   "metadata": {},
   "outputs": [
    {
     "name": "stdout",
     "output_type": "stream",
     "text": [
      "False\n",
      "True\n",
      "False\n"
     ]
    }
   ],
   "source": [
    "'''\n",
    "2.2 Write a Python function which takes a character (i.e. a string of length 1) and returns True if\n",
    "it is a vowel, False otherwise.\n",
    "'''\n",
    "\n",
    "def is_vowel(char):\n",
    "    vowels = ('a', 'e', 'i', 'o', 'u')\n",
    "    if char not in vowels:\n",
    "        return False\n",
    "    return True\n",
    "\n",
    "\n",
    "if __name__ == \"__main__\":\n",
    "    print(is_vowel(1))\n",
    "    print(is_vowel('a'))\n",
    "    print(is_vowel('b'))"
   ]
  },
  {
   "cell_type": "markdown",
   "metadata": {},
   "source": [
    "# [Assignment 5 : Exception Handling Assignment]"
   ]
  },
  {
   "cell_type": "code",
   "execution_count": 13,
   "metadata": {},
   "outputs": [
    {
     "name": "stdout",
     "output_type": "stream",
     "text": [
      "Why do you want to divide a number by ZERO!!\n"
     ]
    }
   ],
   "source": [
    "'''\n",
    "1. Write a function to compute 5/0 and use try/except to catch the exceptions.\n",
    "'''\n",
    "def division():\n",
    "    return 5/0\n",
    "\n",
    "try:\n",
    "    division()\n",
    "except ZeroDivisionError as ze:\n",
    "    print(\"Why do you want to divide a number by ZERO!!\")\n",
    "except:\n",
    "    print(\"other exception\")"
   ]
  },
  {
   "cell_type": "code",
   "execution_count": 2,
   "metadata": {},
   "outputs": [
    {
     "name": "stdout",
     "output_type": "stream",
     "text": [
      "Americans Play Baseball\n",
      "Americans Play cricket\n",
      "Americans watch Baseball\n",
      "Americans watch cricket\n",
      "Indians Play Baseball\n",
      "Indians Play cricket\n",
      "Indians watch Baseball\n",
      "Indians watch cricket\n"
     ]
    }
   ],
   "source": [
    "'''\n",
    "2. Implement a Python program to generate all sentences where subject is in\n",
    "[\"Americans\", \"Indians\"] and verb is in [\"Play\", \"watch\"] and the object is in\n",
    "[\"Baseball\",\"cricket\"].    \n",
    "    \n",
    "Hint: Subject,Verb and Object should be declared in the program as shown below.\n",
    "subjects= [\"Americans \",\"Indians\"]\n",
    "verbs=  [\"play\",\"watch\"]\n",
    "objects=  [\"Baseball\",\"Cricket\"]\n",
    "\n",
    "\n",
    "Output should come as below:\n",
    "Americans play Baseball.\n",
    "Americans play Cricket.\n",
    "Americans watch Baseball.\n",
    "Americans watch Cricket.\n",
    "Indians play Baseball.\n",
    "Indians play Cricket.\n",
    "Indians watch Baseball.\n",
    "Indians watch Cricket.\n",
    "\n",
    "'''\n",
    "\n",
    "subject = [\"Americans\", \"Indians\"]\n",
    "verb = [\"Play\", \"watch\"]\n",
    "obj = [\"Baseball\",\"cricket\"]\n",
    "\n",
    "# Use list comprehension instead of looping over each of the predicates\n",
    "sentence_list = [(sub+\" \"+ vb + \" \" + ob) for sub in subject for vb in verb for ob in obj]\n",
    "for sentence in sentence_list:\n",
    "    print(sentence)"
   ]
  },
  {
   "cell_type": "markdown",
   "metadata": {},
   "source": [
    "Thank You iNeuron"
   ]
  }
 ],
 "metadata": {
  "kernelspec": {
   "display_name": "Python 3",
   "language": "python",
   "name": "python3"
  },
  "language_info": {
   "codemirror_mode": {
    "name": "ipython",
    "version": 3
   },
   "file_extension": ".py",
   "mimetype": "text/x-python",
   "name": "python",
   "nbconvert_exporter": "python",
   "pygments_lexer": "ipython3",
   "version": "3.7.4"
  },
  "toc": {
   "base_numbering": 1,
   "nav_menu": {},
   "number_sections": true,
   "sideBar": true,
   "skip_h1_title": false,
   "title_cell": "Table of Contents",
   "title_sidebar": "Contents",
   "toc_cell": false,
   "toc_position": {},
   "toc_section_display": true,
   "toc_window_display": true
  }
 },
 "nbformat": 4,
 "nbformat_minor": 2
}
